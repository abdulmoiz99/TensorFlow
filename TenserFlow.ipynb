{
  "nbformat": 4,
  "nbformat_minor": 0,
  "metadata": {
    "colab": {
      "name": "TenserFlow.ipynb",
      "provenance": [],
      "authorship_tag": "ABX9TyPh/TKplIxyft+xH6UriDd7",
      "include_colab_link": true
    },
    "kernelspec": {
      "name": "python3",
      "display_name": "Python 3"
    },
    "language_info": {
      "name": "python"
    }
  },
  "cells": [
    {
      "cell_type": "markdown",
      "metadata": {
        "id": "view-in-github",
        "colab_type": "text"
      },
      "source": [
        "<a href=\"https://colab.research.google.com/github/abdulmoiz99/TensorFlow/blob/main/TenserFlow.ipynb\" target=\"_parent\"><img src=\"https://colab.research.google.com/assets/colab-badge.svg\" alt=\"Open In Colab\"/></a>"
      ]
    },
    {
      "cell_type": "code",
      "execution_count": 1,
      "metadata": {
        "id": "4cGmph0lnoaV"
      },
      "outputs": [],
      "source": [
        "from sklearn import datasets\n",
        "import pandas as pd\n",
        "import numpy as np"
      ]
    },
    {
      "cell_type": "code",
      "source": [
        "iris = datasets.load_iris()"
      ],
      "metadata": {
        "id": "yG98jp8QoILP"
      },
      "execution_count": 2,
      "outputs": []
    },
    {
      "cell_type": "code",
      "source": [
        "data = pd.DataFrame(data = np.c_[iris['data'], iris['target']],\n",
        "                    columns = iris['feature_names'] + ['target'])"
      ],
      "metadata": {
        "id": "_wuSx17VoIHF"
      },
      "execution_count": 3,
      "outputs": []
    },
    {
      "cell_type": "code",
      "source": [
        "data"
      ],
      "metadata": {
        "colab": {
          "base_uri": "https://localhost:8080/",
          "height": 423
        },
        "id": "ymlvxjNLqM2Q",
        "outputId": "eed21678-1f18-4ff7-85b0-72c6bee1b56e"
      },
      "execution_count": 4,
      "outputs": [
        {
          "output_type": "execute_result",
          "data": {
            "text/html": [
              "<div>\n",
              "<style scoped>\n",
              "    .dataframe tbody tr th:only-of-type {\n",
              "        vertical-align: middle;\n",
              "    }\n",
              "\n",
              "    .dataframe tbody tr th {\n",
              "        vertical-align: top;\n",
              "    }\n",
              "\n",
              "    .dataframe thead th {\n",
              "        text-align: right;\n",
              "    }\n",
              "</style>\n",
              "<table border=\"1\" class=\"dataframe\">\n",
              "  <thead>\n",
              "    <tr style=\"text-align: right;\">\n",
              "      <th></th>\n",
              "      <th>sepal length (cm)</th>\n",
              "      <th>sepal width (cm)</th>\n",
              "      <th>petal length (cm)</th>\n",
              "      <th>petal width (cm)</th>\n",
              "      <th>target</th>\n",
              "    </tr>\n",
              "  </thead>\n",
              "  <tbody>\n",
              "    <tr>\n",
              "      <th>0</th>\n",
              "      <td>5.1</td>\n",
              "      <td>3.5</td>\n",
              "      <td>1.4</td>\n",
              "      <td>0.2</td>\n",
              "      <td>0.0</td>\n",
              "    </tr>\n",
              "    <tr>\n",
              "      <th>1</th>\n",
              "      <td>4.9</td>\n",
              "      <td>3.0</td>\n",
              "      <td>1.4</td>\n",
              "      <td>0.2</td>\n",
              "      <td>0.0</td>\n",
              "    </tr>\n",
              "    <tr>\n",
              "      <th>2</th>\n",
              "      <td>4.7</td>\n",
              "      <td>3.2</td>\n",
              "      <td>1.3</td>\n",
              "      <td>0.2</td>\n",
              "      <td>0.0</td>\n",
              "    </tr>\n",
              "    <tr>\n",
              "      <th>3</th>\n",
              "      <td>4.6</td>\n",
              "      <td>3.1</td>\n",
              "      <td>1.5</td>\n",
              "      <td>0.2</td>\n",
              "      <td>0.0</td>\n",
              "    </tr>\n",
              "    <tr>\n",
              "      <th>4</th>\n",
              "      <td>5.0</td>\n",
              "      <td>3.6</td>\n",
              "      <td>1.4</td>\n",
              "      <td>0.2</td>\n",
              "      <td>0.0</td>\n",
              "    </tr>\n",
              "    <tr>\n",
              "      <th>...</th>\n",
              "      <td>...</td>\n",
              "      <td>...</td>\n",
              "      <td>...</td>\n",
              "      <td>...</td>\n",
              "      <td>...</td>\n",
              "    </tr>\n",
              "    <tr>\n",
              "      <th>145</th>\n",
              "      <td>6.7</td>\n",
              "      <td>3.0</td>\n",
              "      <td>5.2</td>\n",
              "      <td>2.3</td>\n",
              "      <td>2.0</td>\n",
              "    </tr>\n",
              "    <tr>\n",
              "      <th>146</th>\n",
              "      <td>6.3</td>\n",
              "      <td>2.5</td>\n",
              "      <td>5.0</td>\n",
              "      <td>1.9</td>\n",
              "      <td>2.0</td>\n",
              "    </tr>\n",
              "    <tr>\n",
              "      <th>147</th>\n",
              "      <td>6.5</td>\n",
              "      <td>3.0</td>\n",
              "      <td>5.2</td>\n",
              "      <td>2.0</td>\n",
              "      <td>2.0</td>\n",
              "    </tr>\n",
              "    <tr>\n",
              "      <th>148</th>\n",
              "      <td>6.2</td>\n",
              "      <td>3.4</td>\n",
              "      <td>5.4</td>\n",
              "      <td>2.3</td>\n",
              "      <td>2.0</td>\n",
              "    </tr>\n",
              "    <tr>\n",
              "      <th>149</th>\n",
              "      <td>5.9</td>\n",
              "      <td>3.0</td>\n",
              "      <td>5.1</td>\n",
              "      <td>1.8</td>\n",
              "      <td>2.0</td>\n",
              "    </tr>\n",
              "  </tbody>\n",
              "</table>\n",
              "<p>150 rows × 5 columns</p>\n",
              "</div>"
            ],
            "text/plain": [
              "     sepal length (cm)  sepal width (cm)  ...  petal width (cm)  target\n",
              "0                  5.1               3.5  ...               0.2     0.0\n",
              "1                  4.9               3.0  ...               0.2     0.0\n",
              "2                  4.7               3.2  ...               0.2     0.0\n",
              "3                  4.6               3.1  ...               0.2     0.0\n",
              "4                  5.0               3.6  ...               0.2     0.0\n",
              "..                 ...               ...  ...               ...     ...\n",
              "145                6.7               3.0  ...               2.3     2.0\n",
              "146                6.3               2.5  ...               1.9     2.0\n",
              "147                6.5               3.0  ...               2.0     2.0\n",
              "148                6.2               3.4  ...               2.3     2.0\n",
              "149                5.9               3.0  ...               1.8     2.0\n",
              "\n",
              "[150 rows x 5 columns]"
            ]
          },
          "metadata": {},
          "execution_count": 4
        }
      ]
    },
    {
      "cell_type": "code",
      "source": [
        "X = data.iloc[:,0:3].values\n",
        "Y = data.iloc[:,4].values\n"
      ],
      "metadata": {
        "id": "unkrp5V0oIEj"
      },
      "execution_count": 5,
      "outputs": []
    },
    {
      "cell_type": "code",
      "source": [
        "Y\n",
        "# 0 -> 1 0 0\n",
        "# 1 -> 0 1 0\n",
        "# 2 -> 0 0 1"
      ],
      "metadata": {
        "colab": {
          "base_uri": "https://localhost:8080/"
        },
        "id": "jrT-IBVCoIBY",
        "outputId": "aa248808-3aa3-439c-cdd8-1baed205e826"
      },
      "execution_count": 6,
      "outputs": [
        {
          "output_type": "execute_result",
          "data": {
            "text/plain": [
              "array([0., 0., 0., 0., 0., 0., 0., 0., 0., 0., 0., 0., 0., 0., 0., 0., 0.,\n",
              "       0., 0., 0., 0., 0., 0., 0., 0., 0., 0., 0., 0., 0., 0., 0., 0., 0.,\n",
              "       0., 0., 0., 0., 0., 0., 0., 0., 0., 0., 0., 0., 0., 0., 0., 0., 1.,\n",
              "       1., 1., 1., 1., 1., 1., 1., 1., 1., 1., 1., 1., 1., 1., 1., 1., 1.,\n",
              "       1., 1., 1., 1., 1., 1., 1., 1., 1., 1., 1., 1., 1., 1., 1., 1., 1.,\n",
              "       1., 1., 1., 1., 1., 1., 1., 1., 1., 1., 1., 1., 1., 1., 1., 2., 2.,\n",
              "       2., 2., 2., 2., 2., 2., 2., 2., 2., 2., 2., 2., 2., 2., 2., 2., 2.,\n",
              "       2., 2., 2., 2., 2., 2., 2., 2., 2., 2., 2., 2., 2., 2., 2., 2., 2.,\n",
              "       2., 2., 2., 2., 2., 2., 2., 2., 2., 2., 2., 2., 2., 2.])"
            ]
          },
          "metadata": {},
          "execution_count": 6
        }
      ]
    },
    {
      "cell_type": "code",
      "source": [
        "Y = pd.get_dummies(Y).values"
      ],
      "metadata": {
        "id": "sYBURS02oH-c"
      },
      "execution_count": 7,
      "outputs": []
    },
    {
      "cell_type": "code",
      "source": [
        "Y"
      ],
      "metadata": {
        "colab": {
          "base_uri": "https://localhost:8080/"
        },
        "id": "BsCG4l_RoH7x",
        "outputId": "0a3d923c-b891-4050-f1f1-f3c5356846c8"
      },
      "execution_count": 8,
      "outputs": [
        {
          "output_type": "execute_result",
          "data": {
            "text/plain": [
              "array([[1, 0, 0],\n",
              "       [1, 0, 0],\n",
              "       [1, 0, 0],\n",
              "       [1, 0, 0],\n",
              "       [1, 0, 0],\n",
              "       [1, 0, 0],\n",
              "       [1, 0, 0],\n",
              "       [1, 0, 0],\n",
              "       [1, 0, 0],\n",
              "       [1, 0, 0],\n",
              "       [1, 0, 0],\n",
              "       [1, 0, 0],\n",
              "       [1, 0, 0],\n",
              "       [1, 0, 0],\n",
              "       [1, 0, 0],\n",
              "       [1, 0, 0],\n",
              "       [1, 0, 0],\n",
              "       [1, 0, 0],\n",
              "       [1, 0, 0],\n",
              "       [1, 0, 0],\n",
              "       [1, 0, 0],\n",
              "       [1, 0, 0],\n",
              "       [1, 0, 0],\n",
              "       [1, 0, 0],\n",
              "       [1, 0, 0],\n",
              "       [1, 0, 0],\n",
              "       [1, 0, 0],\n",
              "       [1, 0, 0],\n",
              "       [1, 0, 0],\n",
              "       [1, 0, 0],\n",
              "       [1, 0, 0],\n",
              "       [1, 0, 0],\n",
              "       [1, 0, 0],\n",
              "       [1, 0, 0],\n",
              "       [1, 0, 0],\n",
              "       [1, 0, 0],\n",
              "       [1, 0, 0],\n",
              "       [1, 0, 0],\n",
              "       [1, 0, 0],\n",
              "       [1, 0, 0],\n",
              "       [1, 0, 0],\n",
              "       [1, 0, 0],\n",
              "       [1, 0, 0],\n",
              "       [1, 0, 0],\n",
              "       [1, 0, 0],\n",
              "       [1, 0, 0],\n",
              "       [1, 0, 0],\n",
              "       [1, 0, 0],\n",
              "       [1, 0, 0],\n",
              "       [1, 0, 0],\n",
              "       [0, 1, 0],\n",
              "       [0, 1, 0],\n",
              "       [0, 1, 0],\n",
              "       [0, 1, 0],\n",
              "       [0, 1, 0],\n",
              "       [0, 1, 0],\n",
              "       [0, 1, 0],\n",
              "       [0, 1, 0],\n",
              "       [0, 1, 0],\n",
              "       [0, 1, 0],\n",
              "       [0, 1, 0],\n",
              "       [0, 1, 0],\n",
              "       [0, 1, 0],\n",
              "       [0, 1, 0],\n",
              "       [0, 1, 0],\n",
              "       [0, 1, 0],\n",
              "       [0, 1, 0],\n",
              "       [0, 1, 0],\n",
              "       [0, 1, 0],\n",
              "       [0, 1, 0],\n",
              "       [0, 1, 0],\n",
              "       [0, 1, 0],\n",
              "       [0, 1, 0],\n",
              "       [0, 1, 0],\n",
              "       [0, 1, 0],\n",
              "       [0, 1, 0],\n",
              "       [0, 1, 0],\n",
              "       [0, 1, 0],\n",
              "       [0, 1, 0],\n",
              "       [0, 1, 0],\n",
              "       [0, 1, 0],\n",
              "       [0, 1, 0],\n",
              "       [0, 1, 0],\n",
              "       [0, 1, 0],\n",
              "       [0, 1, 0],\n",
              "       [0, 1, 0],\n",
              "       [0, 1, 0],\n",
              "       [0, 1, 0],\n",
              "       [0, 1, 0],\n",
              "       [0, 1, 0],\n",
              "       [0, 1, 0],\n",
              "       [0, 1, 0],\n",
              "       [0, 1, 0],\n",
              "       [0, 1, 0],\n",
              "       [0, 1, 0],\n",
              "       [0, 1, 0],\n",
              "       [0, 1, 0],\n",
              "       [0, 1, 0],\n",
              "       [0, 1, 0],\n",
              "       [0, 1, 0],\n",
              "       [0, 0, 1],\n",
              "       [0, 0, 1],\n",
              "       [0, 0, 1],\n",
              "       [0, 0, 1],\n",
              "       [0, 0, 1],\n",
              "       [0, 0, 1],\n",
              "       [0, 0, 1],\n",
              "       [0, 0, 1],\n",
              "       [0, 0, 1],\n",
              "       [0, 0, 1],\n",
              "       [0, 0, 1],\n",
              "       [0, 0, 1],\n",
              "       [0, 0, 1],\n",
              "       [0, 0, 1],\n",
              "       [0, 0, 1],\n",
              "       [0, 0, 1],\n",
              "       [0, 0, 1],\n",
              "       [0, 0, 1],\n",
              "       [0, 0, 1],\n",
              "       [0, 0, 1],\n",
              "       [0, 0, 1],\n",
              "       [0, 0, 1],\n",
              "       [0, 0, 1],\n",
              "       [0, 0, 1],\n",
              "       [0, 0, 1],\n",
              "       [0, 0, 1],\n",
              "       [0, 0, 1],\n",
              "       [0, 0, 1],\n",
              "       [0, 0, 1],\n",
              "       [0, 0, 1],\n",
              "       [0, 0, 1],\n",
              "       [0, 0, 1],\n",
              "       [0, 0, 1],\n",
              "       [0, 0, 1],\n",
              "       [0, 0, 1],\n",
              "       [0, 0, 1],\n",
              "       [0, 0, 1],\n",
              "       [0, 0, 1],\n",
              "       [0, 0, 1],\n",
              "       [0, 0, 1],\n",
              "       [0, 0, 1],\n",
              "       [0, 0, 1],\n",
              "       [0, 0, 1],\n",
              "       [0, 0, 1],\n",
              "       [0, 0, 1],\n",
              "       [0, 0, 1],\n",
              "       [0, 0, 1],\n",
              "       [0, 0, 1],\n",
              "       [0, 0, 1],\n",
              "       [0, 0, 1]], dtype=uint8)"
            ]
          },
          "metadata": {},
          "execution_count": 8
        }
      ]
    },
    {
      "cell_type": "code",
      "source": [
        "from sklearn.model_selection import train_test_split\n",
        "X_train, X_test, Y_train, Y_test = train_test_split(X,Y,test_size = 0.2, random_state = 0)"
      ],
      "metadata": {
        "id": "eT8e9Tz5oHzK"
      },
      "execution_count": 9,
      "outputs": []
    },
    {
      "cell_type": "code",
      "source": [
        "Y_test"
      ],
      "metadata": {
        "colab": {
          "base_uri": "https://localhost:8080/"
        },
        "id": "H8qLHPj_oHZw",
        "outputId": "66b880aa-ad6f-45e1-e923-36f121c3c0af"
      },
      "execution_count": 10,
      "outputs": [
        {
          "output_type": "execute_result",
          "data": {
            "text/plain": [
              "array([[0, 0, 1],\n",
              "       [0, 1, 0],\n",
              "       [1, 0, 0],\n",
              "       [0, 0, 1],\n",
              "       [1, 0, 0],\n",
              "       [0, 0, 1],\n",
              "       [1, 0, 0],\n",
              "       [0, 1, 0],\n",
              "       [0, 1, 0],\n",
              "       [0, 1, 0],\n",
              "       [0, 0, 1],\n",
              "       [0, 1, 0],\n",
              "       [0, 1, 0],\n",
              "       [0, 1, 0],\n",
              "       [0, 1, 0],\n",
              "       [1, 0, 0],\n",
              "       [0, 1, 0],\n",
              "       [0, 1, 0],\n",
              "       [1, 0, 0],\n",
              "       [1, 0, 0],\n",
              "       [0, 0, 1],\n",
              "       [0, 1, 0],\n",
              "       [1, 0, 0],\n",
              "       [1, 0, 0],\n",
              "       [0, 0, 1],\n",
              "       [1, 0, 0],\n",
              "       [1, 0, 0],\n",
              "       [0, 1, 0],\n",
              "       [0, 1, 0],\n",
              "       [1, 0, 0]], dtype=uint8)"
            ]
          },
          "metadata": {},
          "execution_count": 10
        }
      ]
    },
    {
      "cell_type": "code",
      "source": [
        "import tensorflow as tf\n",
        "from tensorflow.keras import layers\n",
        "import pandas as pd\n",
        "import numpy as np\n",
        "from tensorflow.keras import datasets, layers, models\n",
        "from tensorflow.keras.utils import to_categorical"
      ],
      "metadata": {
        "id": "MR0BexesoHVs"
      },
      "execution_count": 11,
      "outputs": []
    },
    {
      "cell_type": "code",
      "source": [
        "model = tf.keras.models.Sequential()\n",
        "model.add(tf.keras.layers.Dense(32, activation='relu')) # // no of neurons\n",
        "model.add(tf.keras.layers.Dense(3, activation='relu'))\n",
        "\n",
        "\n",
        "model.compile(optimizer = 'adamax',\n",
        "              loss = 'categorical_crossentropy',\n",
        "              metrics = ['accuracy'])\n",
        "\n",
        "history = model.fit(X_train,Y_train, validation_data = (X_test,Y_test), batch_size =50, epochs = 20)"
      ],
      "metadata": {
        "colab": {
          "base_uri": "https://localhost:8080/"
        },
        "id": "mSKQynSmsIXu",
        "outputId": "b0b82904-8f41-4de9-e7dc-fb268e0cc1b1"
      },
      "execution_count": 12,
      "outputs": [
        {
          "output_type": "stream",
          "name": "stdout",
          "text": [
            "Epoch 1/20\n",
            "3/3 [==============================] - 1s 89ms/step - loss: 1.3315 - accuracy: 0.3667 - val_loss: 1.4494 - val_accuracy: 0.2000\n",
            "Epoch 2/20\n",
            "3/3 [==============================] - 0s 13ms/step - loss: 1.3034 - accuracy: 0.3667 - val_loss: 1.4087 - val_accuracy: 0.2000\n",
            "Epoch 3/20\n",
            "3/3 [==============================] - 0s 13ms/step - loss: 1.2816 - accuracy: 0.3667 - val_loss: 1.3773 - val_accuracy: 0.2000\n",
            "Epoch 4/20\n",
            "3/3 [==============================] - 0s 13ms/step - loss: 1.2672 - accuracy: 0.3667 - val_loss: 1.3523 - val_accuracy: 0.2000\n",
            "Epoch 5/20\n",
            "3/3 [==============================] - 0s 14ms/step - loss: 1.2531 - accuracy: 0.3583 - val_loss: 1.3339 - val_accuracy: 0.2000\n",
            "Epoch 6/20\n",
            "3/3 [==============================] - 0s 12ms/step - loss: 1.2431 - accuracy: 0.3500 - val_loss: 1.3180 - val_accuracy: 0.1333\n",
            "Epoch 7/20\n",
            "3/3 [==============================] - 0s 12ms/step - loss: 1.2339 - accuracy: 0.3250 - val_loss: 1.3046 - val_accuracy: 0.1333\n",
            "Epoch 8/20\n",
            "3/3 [==============================] - 0s 12ms/step - loss: 1.2261 - accuracy: 0.2750 - val_loss: 1.2930 - val_accuracy: 0.1000\n",
            "Epoch 9/20\n",
            "3/3 [==============================] - 0s 12ms/step - loss: 1.2193 - accuracy: 0.2167 - val_loss: 1.2822 - val_accuracy: 0.0667\n",
            "Epoch 10/20\n",
            "3/3 [==============================] - 0s 12ms/step - loss: 1.2126 - accuracy: 0.1833 - val_loss: 1.2728 - val_accuracy: 0.0333\n",
            "Epoch 11/20\n",
            "3/3 [==============================] - 0s 14ms/step - loss: 1.2070 - accuracy: 0.1500 - val_loss: 1.2632 - val_accuracy: 0.0333\n",
            "Epoch 12/20\n",
            "3/3 [==============================] - 0s 18ms/step - loss: 1.2007 - accuracy: 0.1083 - val_loss: 1.2545 - val_accuracy: 0.0333\n",
            "Epoch 13/20\n",
            "3/3 [==============================] - 0s 20ms/step - loss: 1.1955 - accuracy: 0.0833 - val_loss: 1.2463 - val_accuracy: 0.0000e+00\n",
            "Epoch 14/20\n",
            "3/3 [==============================] - 0s 12ms/step - loss: 1.1901 - accuracy: 0.0750 - val_loss: 1.2391 - val_accuracy: 0.0000e+00\n",
            "Epoch 15/20\n",
            "3/3 [==============================] - 0s 13ms/step - loss: 1.1852 - accuracy: 0.0750 - val_loss: 1.2319 - val_accuracy: 0.0000e+00\n",
            "Epoch 16/20\n",
            "3/3 [==============================] - 0s 12ms/step - loss: 1.1806 - accuracy: 0.0750 - val_loss: 1.2254 - val_accuracy: 0.0000e+00\n",
            "Epoch 17/20\n",
            "3/3 [==============================] - 0s 12ms/step - loss: 1.1763 - accuracy: 0.0750 - val_loss: 1.2197 - val_accuracy: 0.0000e+00\n",
            "Epoch 18/20\n",
            "3/3 [==============================] - 0s 12ms/step - loss: 1.1727 - accuracy: 0.0750 - val_loss: 1.2142 - val_accuracy: 0.0000e+00\n",
            "Epoch 19/20\n",
            "3/3 [==============================] - 0s 12ms/step - loss: 1.1691 - accuracy: 0.0667 - val_loss: 1.2094 - val_accuracy: 0.0000e+00\n",
            "Epoch 20/20\n",
            "3/3 [==============================] - 0s 13ms/step - loss: 1.1658 - accuracy: 0.0917 - val_loss: 1.2052 - val_accuracy: 0.0333\n"
          ]
        }
      ]
    },
    {
      "cell_type": "code",
      "source": [
        "from matplotlib import pyplot\n",
        "pyplot.title('Loss')  \n",
        "pyplot.plot(history.history['loss'], label = 'train')\n",
        "pyplot.plot(history.history['val_loss'],label = 'test')\n",
        "pyplot.legend()\n",
        "pyplot.show()"
      ],
      "metadata": {
        "colab": {
          "base_uri": "https://localhost:8080/",
          "height": 281
        },
        "id": "eezBOP5MsIUT",
        "outputId": "6641e2b1-a551-4d05-9ffc-848cec8c6664"
      },
      "execution_count": 13,
      "outputs": [
        {
          "output_type": "display_data",
          "data": {
            "image/png": "[encoded data removed]",
            "text/plain": [
              "<Figure size 432x288 with 1 Axes>"
            ]
          },
          "metadata": {
            "needs_background": "light"
          }
        }
      ]
    },
    {
      "cell_type": "markdown",
      "source": [
        "Model That Save the Best Accuracy"
      ],
      "metadata": {
        "id": "9hefcKQjU8Eb"
      }
    },
    {
      "cell_type": "code",
      "source": [
        "!pip install -pyyaml h5py\n",
        "filepath = 'iris_best_model.hdf5'"
      ],
      "metadata": {
        "colab": {
          "base_uri": "https://localhost:8080/"
        },
        "id": "-wG5fRPMsIRM",
        "outputId": "61688cdd-3b4e-4fa2-85c3-8cfea403176b"
      },
      "execution_count": 14,
      "outputs": [
        {
          "output_type": "stream",
          "name": "stdout",
          "text": [
            "\n",
            "Usage:   \n",
            "  pip3 install [options] <requirement specifier> [package-index-options] ...\n",
            "  pip3 install [options] -r <requirements file> [package-index-options] ...\n",
            "  pip3 install [options] [-e] <vcs project url> ...\n",
            "  pip3 install [options] [-e] <local project path> ...\n",
            "  pip3 install [options] <archive url/path> ...\n",
            "\n",
            "no such option: -p\n"
          ]
        }
      ]
    },
    {
      "cell_type": "code",
      "source": [
        "from google.colab import drive\n",
        "drive.mount('/content/drive')"
      ],
      "metadata": {
        "colab": {
          "base_uri": "https://localhost:8080/"
        },
        "id": "DRWshPRgsION",
        "outputId": "a3dd9874-2f9b-4d44-b80b-6885a8505549"
      },
      "execution_count": 21,
      "outputs": [
        {
          "output_type": "stream",
          "name": "stdout",
          "text": [
            "Mounted at /content/drive\n"
          ]
        }
      ]
    },
    {
      "cell_type": "code",
      "source": [
        "from keras.callbacks import ModelCheckpoint, EarlyStopping"
      ],
      "metadata": {
        "id": "4Ad-obneXKBd"
      },
      "execution_count": 19,
      "outputs": []
    },
    {
      "cell_type": "code",
      "source": [
        "create_model = True\n",
        "model = tf.keras.models.Sequential()\n",
        "\n",
        "if create_model:\n",
        "  model.add(tf.keras.layers.Input(shape=(3)))\n",
        "  model.add(tf.keras.layers.Dense(512, activation='relu')) # // no of neurons\n",
        "  model.add(tf.keras.layers.Dropout(0.5))\n",
        "  model.add(tf.keras.layers.Dense(16, activation='relu'))\n",
        "  model.add(tf.keras.layers.Dropout(0.5))\n",
        "  model.add(tf.keras.layers.Dense(3, activation='relu'))\n",
        "else:\n",
        "  model = load_model(filepath)\n",
        "\n",
        "model.compile(loss = 'categorical_crossentropy',\n",
        "              optimizer = 'adam',\n",
        "              metrics = ['accuracy'])\n",
        "\n",
        "es = EarlyStopping(monitor = 'val_loss',mode = 'min',verbose = 1, patience = 10)\n",
        "mc = ModelCheckpoint(filepath = filepath, monitor = 'val_accuracy', mode = 'max', verbose = 1, save_best_only = True)\n",
        "\n",
        "history = model.fit(X_train,Y_train, validation_data = (X_test,Y_test), batch_size =50, epochs = 20)\n",
        "\n"
      ],
      "metadata": {
        "colab": {
          "base_uri": "https://localhost:8080/"
        },
        "id": "M67pLSTUsIL1",
        "outputId": "b2b6aadd-7bf2-46e9-dfe4-274c9607709c"
      },
      "execution_count": 22,
      "outputs": [
        {
          "output_type": "stream",
          "name": "stdout",
          "text": [
            "Epoch 1/20\n",
            "3/3 [==============================] - 1s 80ms/step - loss: nan - accuracy: 0.2917 - val_loss: nan - val_accuracy: 0.3667\n",
            "Epoch 2/20\n",
            "3/3 [==============================] - 0s 13ms/step - loss: nan - accuracy: 0.3250 - val_loss: nan - val_accuracy: 0.3667\n",
            "Epoch 3/20\n",
            "3/3 [==============================] - 0s 14ms/step - loss: nan - accuracy: 0.3250 - val_loss: nan - val_accuracy: 0.3667\n",
            "Epoch 4/20\n",
            "3/3 [==============================] - 0s 14ms/step - loss: nan - accuracy: 0.3250 - val_loss: nan - val_accuracy: 0.3667\n",
            "Epoch 5/20\n",
            "3/3 [==============================] - 0s 15ms/step - loss: nan - accuracy: 0.3250 - val_loss: nan - val_accuracy: 0.3667\n",
            "Epoch 6/20\n",
            "3/3 [==============================] - 0s 13ms/step - loss: nan - accuracy: 0.3250 - val_loss: nan - val_accuracy: 0.3667\n",
            "Epoch 7/20\n",
            "3/3 [==============================] - 0s 14ms/step - loss: nan - accuracy: 0.3250 - val_loss: nan - val_accuracy: 0.3667\n",
            "Epoch 8/20\n",
            "3/3 [==============================] - 0s 15ms/step - loss: nan - accuracy: 0.3250 - val_loss: nan - val_accuracy: 0.3667\n",
            "Epoch 9/20\n",
            "3/3 [==============================] - 0s 14ms/step - loss: nan - accuracy: 0.3250 - val_loss: nan - val_accuracy: 0.3667\n",
            "Epoch 10/20\n",
            "3/3 [==============================] - 0s 13ms/step - loss: nan - accuracy: 0.3250 - val_loss: nan - val_accuracy: 0.3667\n",
            "Epoch 11/20\n",
            "3/3 [==============================] - 0s 14ms/step - loss: nan - accuracy: 0.3250 - val_loss: nan - val_accuracy: 0.3667\n",
            "Epoch 12/20\n",
            "3/3 [==============================] - 0s 13ms/step - loss: nan - accuracy: 0.3250 - val_loss: nan - val_accuracy: 0.3667\n",
            "Epoch 13/20\n",
            "3/3 [==============================] - 0s 14ms/step - loss: nan - accuracy: 0.3250 - val_loss: nan - val_accuracy: 0.3667\n",
            "Epoch 14/20\n",
            "3/3 [==============================] - 0s 13ms/step - loss: nan - accuracy: 0.3250 - val_loss: nan - val_accuracy: 0.3667\n",
            "Epoch 15/20\n",
            "3/3 [==============================] - 0s 14ms/step - loss: nan - accuracy: 0.3250 - val_loss: nan - val_accuracy: 0.3667\n",
            "Epoch 16/20\n",
            "3/3 [==============================] - 0s 14ms/step - loss: nan - accuracy: 0.3250 - val_loss: nan - val_accuracy: 0.3667\n",
            "Epoch 17/20\n",
            "3/3 [==============================] - 0s 15ms/step - loss: nan - accuracy: 0.3250 - val_loss: nan - val_accuracy: 0.3667\n",
            "Epoch 18/20\n",
            "3/3 [==============================] - 0s 14ms/step - loss: nan - accuracy: 0.3250 - val_loss: nan - val_accuracy: 0.3667\n",
            "Epoch 19/20\n",
            "3/3 [==============================] - 0s 16ms/step - loss: nan - accuracy: 0.3250 - val_loss: nan - val_accuracy: 0.3667\n",
            "Epoch 20/20\n",
            "3/3 [==============================] - 0s 15ms/step - loss: nan - accuracy: 0.3250 - val_loss: nan - val_accuracy: 0.3667\n"
          ]
        }
      ]
    },
    {
      "cell_type": "code",
      "source": [
        ""
      ],
      "metadata": {
        "id": "UcsJwtIRsII2"
      },
      "execution_count": 13,
      "outputs": []
    },
    {
      "cell_type": "code",
      "source": [
        ""
      ],
      "metadata": {
        "id": "V0_eaMZCsH8c"
      },
      "execution_count": 13,
      "outputs": []
    }
  ]
}